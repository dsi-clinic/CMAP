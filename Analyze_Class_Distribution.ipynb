{
 "cells": [
  {
   "cell_type": "code",
   "execution_count": 1,
   "metadata": {},
   "outputs": [
    {
     "ename": "NameError",
     "evalue": "name 'path' is not defined",
     "output_type": "error",
     "traceback": [
      "\u001b[0;31m---------------------------------------------------------------------------\u001b[0m",
      "\u001b[0;31mNameError\u001b[0m                                 Traceback (most recent call last)",
      "Cell \u001b[0;32mIn[1], line 8\u001b[0m\n\u001b[1;32m      5\u001b[0m \u001b[38;5;28;01mfrom\u001b[39;00m \u001b[38;5;21;01mtorchgeo\u001b[39;00m\u001b[38;5;21;01m.\u001b[39;00m\u001b[38;5;21;01mdatasets\u001b[39;00m\u001b[38;5;21;01m.\u001b[39;00m\u001b[38;5;21;01mutils\u001b[39;00m \u001b[38;5;28;01mimport\u001b[39;00m BoundingBox\n\u001b[1;32m      7\u001b[0m \u001b[38;5;28;01mfrom\u001b[39;00m \u001b[38;5;21;01mdata\u001b[39;00m\u001b[38;5;21;01m.\u001b[39;00m\u001b[38;5;21;01msampler\u001b[39;00m \u001b[38;5;28;01mimport\u001b[39;00m BalancedGridGeoSampler, BalancedRandomBatchGeoSampler\n\u001b[0;32m----> 8\u001b[0m \u001b[38;5;28;01mfrom\u001b[39;00m \u001b[38;5;21;01mtrain\u001b[39;00m \u001b[38;5;28;01mimport\u001b[39;00m initialize_dataset\n",
      "File \u001b[0;32m~/CMAP-class-imbalance/train.py:32\u001b[0m\n\u001b[1;32m     29\u001b[0m \u001b[38;5;28;01mfrom\u001b[39;00m \u001b[38;5;21;01mtorchmetrics\u001b[39;00m\u001b[38;5;21;01m.\u001b[39;00m\u001b[38;5;21;01mclassification\u001b[39;00m \u001b[38;5;28;01mimport\u001b[39;00m MulticlassJaccardIndex\n\u001b[1;32m     31\u001b[0m \u001b[38;5;28;01mfrom\u001b[39;00m \u001b[38;5;21;01mdata\u001b[39;00m\u001b[38;5;21;01m.\u001b[39;00m\u001b[38;5;21;01mdem\u001b[39;00m \u001b[38;5;28;01mimport\u001b[39;00m KaneDEM\n\u001b[0;32m---> 32\u001b[0m \u001b[38;5;28;01mfrom\u001b[39;00m \u001b[38;5;21;01mdata\u001b[39;00m\u001b[38;5;21;01m.\u001b[39;00m\u001b[38;5;21;01mkc\u001b[39;00m \u001b[38;5;28;01mimport\u001b[39;00m KaneCounty\n\u001b[1;32m     33\u001b[0m \u001b[38;5;28;01mfrom\u001b[39;00m \u001b[38;5;21;01mdata\u001b[39;00m\u001b[38;5;21;01m.\u001b[39;00m\u001b[38;5;21;01msampler\u001b[39;00m \u001b[38;5;28;01mimport\u001b[39;00m BalancedGridGeoSampler, BalancedRandomBatchGeoSampler\n\u001b[1;32m     34\u001b[0m \u001b[38;5;28;01mfrom\u001b[39;00m \u001b[38;5;21;01mmodel\u001b[39;00m \u001b[38;5;28;01mimport\u001b[39;00m SegmentationModel\n",
      "File \u001b[0;32m~/CMAP-class-imbalance/data/kc.py:203\u001b[0m\n\u001b[1;32m    200\u001b[0m         \u001b[38;5;28;01mreturn\u001b[39;00m class_counts\n\u001b[1;32m    202\u001b[0m \u001b[38;5;66;03m# Assume 'dataset' is an instance of KaneCounty\u001b[39;00m\n\u001b[0;32m--> 203\u001b[0m dataset \u001b[38;5;241m=\u001b[39m KaneCounty(\u001b[43mpath\u001b[49m, configs)\n\u001b[1;32m    204\u001b[0m counts \u001b[38;5;241m=\u001b[39m dataset\u001b[38;5;241m.\u001b[39mget_class_counts()\n\u001b[1;32m    205\u001b[0m \u001b[38;5;28mprint\u001b[39m(counts)\n",
      "\u001b[0;31mNameError\u001b[0m: name 'path' is not defined"
     ]
    }
   ],
   "source": [
    "import importlib\n",
    "from collections import Counter\n",
    "\n",
    "import numpy as np\n",
    "from torchgeo.datasets.utils import BoundingBox\n",
    "\n",
    "from data.sampler import BalancedGridGeoSampler, BalancedRandomBatchGeoSampler\n",
    "from train import initialize_dataset"
   ]
  },
  {
   "cell_type": "code",
   "execution_count": null,
   "metadata": {},
   "outputs": [
    {
     "ename": "",
     "evalue": "",
     "output_type": "error",
     "traceback": [
      "\u001b[1;31mThe Kernel crashed while executing code in the current cell or a previous cell. \n",
      "\u001b[1;31mPlease review the code in the cell(s) to identify a possible cause of the failure. \n",
      "\u001b[1;31mClick <a href='https://aka.ms/vscodeJupyterKernelCrash'>here</a> for more info. \n",
      "\u001b[1;31mView Jupyter <a href='command:jupyter.viewOutput'>log</a> for further details."
     ]
    }
   ],
   "source": [
    "# Load the configuration module\n",
    "config_module = \"configs.config\"  # Replace with your actual config module path\n",
    "config = importlib.import_module(config_module)\n",
    "\n",
    "# Initialize the dataset\n",
    "naip_dataset, kc_dataset = initialize_dataset(config)\n",
    "\n",
    "\n",
    "def analyze_kc_class_distribution(kc_dataset):\n",
    "    \"\"\"Analyze the class distribution in the Kane County dataset.\"\"\"\n",
    "    class_counts = Counter()\n",
    "\n",
    "    # Define bounding box grid based on dataset bounds and resolution\n",
    "    minx, miny, maxx, maxy = kc_dataset.bounds[:4]\n",
    "    grid_size = (maxx - minx) // 20\n",
    "\n",
    "    for x in np.arange(minx, maxx, grid_size):\n",
    "        for y in np.arange(miny, maxy, grid_size):\n",
    "            bbox = BoundingBox(\n",
    "                minx=x, miny=y, maxx=x + grid_size, maxy=y + grid_size, mint=0, maxt=1\n",
    "            )\n",
    "            try:\n",
    "                sample = kc_dataset[bbox]\n",
    "                masks = sample[\"mask\"]\n",
    "                flattened = masks.flatten().tolist()\n",
    "                class_counts.update(flattened)\n",
    "            except IndexError:\n",
    "                continue\n",
    "\n",
    "    return class_counts\n",
    "\n",
    "\n",
    "kc_class_distribution = analyze_kc_class_distribution(kc_dataset)\n",
    "\n",
    "print(\"Class Distribution in Kane County Dataset:\")\n",
    "for label, count in kc_class_distribution.items():\n",
    "    print(f\"Class {label}: {count}\")"
   ]
  },
  {
   "cell_type": "code",
   "execution_count": null,
   "metadata": {},
   "outputs": [
    {
     "ename": "TypeError",
     "evalue": "Can't instantiate abstract class KaneCounty with abstract method __getitem__",
     "output_type": "error",
     "traceback": [
      "\u001b[0;31m---------------------------------------------------------------------------\u001b[0m",
      "\u001b[0;31mTypeError\u001b[0m                                 Traceback (most recent call last)",
      "Cell \u001b[0;32mIn[1], line 96\u001b[0m\n\u001b[1;32m     93\u001b[0m configs \u001b[38;5;241m=\u001b[39m (layer_name, label_mapping, patch_size, dest_crs, resolution)\n\u001b[1;32m     95\u001b[0m \u001b[38;5;66;03m# Initialize the KaneCounty dataset\u001b[39;00m\n\u001b[0;32m---> 96\u001b[0m dataset \u001b[38;5;241m=\u001b[39m \u001b[43mKaneCounty\u001b[49m\u001b[43m(\u001b[49m\u001b[43mdataset_path\u001b[49m\u001b[43m,\u001b[49m\u001b[43m \u001b[49m\u001b[43mconfigs\u001b[49m\u001b[43m)\u001b[49m\n\u001b[1;32m     98\u001b[0m \u001b[38;5;66;03m# Compute class counts\u001b[39;00m\n\u001b[1;32m     99\u001b[0m class_counts \u001b[38;5;241m=\u001b[39m dataset\u001b[38;5;241m.\u001b[39mget_class_counts()\n",
      "\u001b[0;31mTypeError\u001b[0m: Can't instantiate abstract class KaneCounty with abstract method __getitem__"
     ]
    }
   ],
   "source": []
  },
  {
   "cell_type": "code",
   "execution_count": null,
   "metadata": {},
   "outputs": [
    {
     "name": "stdout",
     "output_type": "stream",
     "text": [
      "Class Distribution (Random Sampler): {0: 14735880, 2: 444671, 1: 882219, 3: 139446, 4: 50712}\n"
     ]
    },
    {
     "ename": "TypeError",
     "evalue": "'float' object is not iterable",
     "output_type": "error",
     "traceback": [
      "\u001b[0;31m---------------------------------------------------------------------------\u001b[0m",
      "\u001b[0;31mTypeError\u001b[0m                                 Traceback (most recent call last)",
      "Cell \u001b[0;32mIn[5], line 37\u001b[0m\n\u001b[1;32m     34\u001b[0m \u001b[38;5;28mprint\u001b[39m(\u001b[38;5;124m\"\u001b[39m\u001b[38;5;124mClass Distribution (Random Sampler):\u001b[39m\u001b[38;5;124m\"\u001b[39m, \u001b[38;5;28mdict\u001b[39m(random_class_distribution))\n\u001b[1;32m     36\u001b[0m \u001b[38;5;66;03m# Using Grid Sampler\u001b[39;00m\n\u001b[0;32m---> 37\u001b[0m grid_class_distribution \u001b[38;5;241m=\u001b[39m \u001b[43manalyze_sampler_class_distribution\u001b[49m\u001b[43m(\u001b[49m\u001b[43mgrid_sampler\u001b[49m\u001b[43m)\u001b[49m\n\u001b[1;32m     38\u001b[0m \u001b[38;5;28mprint\u001b[39m(\u001b[38;5;124m\"\u001b[39m\u001b[38;5;124mClass Distribution (Grid Sampler):\u001b[39m\u001b[38;5;124m\"\u001b[39m, \u001b[38;5;28mdict\u001b[39m(grid_class_distribution))\n",
      "Cell \u001b[0;32mIn[5], line 24\u001b[0m, in \u001b[0;36manalyze_sampler_class_distribution\u001b[0;34m(sampler)\u001b[0m\n\u001b[1;32m     22\u001b[0m \u001b[38;5;28;01mfor\u001b[39;00m bbox \u001b[38;5;129;01min\u001b[39;00m batch:\n\u001b[1;32m     23\u001b[0m     \u001b[38;5;28;01mtry\u001b[39;00m:\n\u001b[0;32m---> 24\u001b[0m         sample \u001b[38;5;241m=\u001b[39m \u001b[43mkc_dataset\u001b[49m\u001b[43m[\u001b[49m\u001b[43mbbox\u001b[49m\u001b[43m]\u001b[49m\n\u001b[1;32m     25\u001b[0m         mask \u001b[38;5;241m=\u001b[39m sample[\u001b[38;5;124m\"\u001b[39m\u001b[38;5;124mmask\u001b[39m\u001b[38;5;124m\"\u001b[39m]\u001b[38;5;241m.\u001b[39mflatten()\u001b[38;5;241m.\u001b[39mtolist()\n\u001b[1;32m     26\u001b[0m         class_counts\u001b[38;5;241m.\u001b[39mupdate(mask)\n",
      "File \u001b[0;32m~/CMAP-class-imbalance/data/kc.py:150\u001b[0m, in \u001b[0;36mKaneCounty.__getitem__\u001b[0;34m(self, query)\u001b[0m\n\u001b[1;32m    138\u001b[0m \u001b[38;5;28;01mdef\u001b[39;00m \u001b[38;5;21m__getitem__\u001b[39m(\u001b[38;5;28mself\u001b[39m, query: BoundingBox):\n\u001b[1;32m    139\u001b[0m \u001b[38;5;250m    \u001b[39m\u001b[38;5;124;03m\"\"\"Retrieve image/mask and metadata indexed by query.\u001b[39;00m\n\u001b[1;32m    140\u001b[0m \n\u001b[1;32m    141\u001b[0m \u001b[38;5;124;03m    Args:\u001b[39;00m\n\u001b[0;32m   (...)\u001b[0m\n\u001b[1;32m    148\u001b[0m \u001b[38;5;124;03m        IndexError: if query is not found in the index\u001b[39;00m\n\u001b[1;32m    149\u001b[0m \u001b[38;5;124;03m    \"\"\"\u001b[39;00m\n\u001b[0;32m--> 150\u001b[0m     hits \u001b[38;5;241m=\u001b[39m \u001b[38;5;28mself\u001b[39m\u001b[38;5;241m.\u001b[39mindex\u001b[38;5;241m.\u001b[39mintersection(\u001b[38;5;28;43mtuple\u001b[39;49m\u001b[43m(\u001b[49m\u001b[43mquery\u001b[49m\u001b[43m)\u001b[49m, objects\u001b[38;5;241m=\u001b[39m\u001b[38;5;28;01mTrue\u001b[39;00m)\n\u001b[1;32m    151\u001b[0m     objs \u001b[38;5;241m=\u001b[39m [hit\u001b[38;5;241m.\u001b[39mobject \u001b[38;5;28;01mfor\u001b[39;00m hit \u001b[38;5;129;01min\u001b[39;00m hits]\n\u001b[1;32m    153\u001b[0m     \u001b[38;5;28;01mif\u001b[39;00m \u001b[38;5;129;01mnot\u001b[39;00m objs:\n",
      "\u001b[0;31mTypeError\u001b[0m: 'float' object is not iterable"
     ]
    }
   ],
   "source": [
    "config_module = \"configs.config\"  # Replace with your actual config module path\n",
    "config = importlib.import_module(config_module)\n",
    "\n",
    "naip_dataset, kc_dataset = initialize_dataset(config)\n",
    "\n",
    "sampler_config = {\n",
    "    \"dataset\": kc_dataset,\n",
    "    \"size\": (128, 128),  # Patch size in pixels or CRS units\n",
    "    \"batch_size\": 16,  # Number of patches per batch\n",
    "    \"length\": 1000,  # Total number of samples per epoch\n",
    "    \"roi\": kc_dataset.bounds,  # Region of interest (entire dataset bounds)\n",
    "}\n",
    "\n",
    "random_sampler = BalancedRandomBatchGeoSampler(sampler_config)\n",
    "grid_sampler = BalancedGridGeoSampler({**sampler_config, \"stride\": (64, 64)})\n",
    "\n",
    "\n",
    "def analyze_sampler_class_distribution(sampler):\n",
    "    \"\"\"Analyze class distribution using patches sampled by the sampler.\"\"\"\n",
    "    class_counts = Counter()\n",
    "\n",
    "    for batch in sampler:\n",
    "        for bbox in batch:\n",
    "            try:\n",
    "                sample = kc_dataset[bbox]\n",
    "                mask = sample[\"mask\"].flatten().tolist()\n",
    "                class_counts.update(mask)\n",
    "            except IndexError:\n",
    "                continue\n",
    "\n",
    "    return class_counts\n",
    "\n",
    "\n",
    "# Using Random Batch Sampler\n",
    "random_class_distribution = analyze_sampler_class_distribution(random_sampler)\n",
    "print(\"Class Distribution (Random Sampler):\", dict(random_class_distribution))\n",
    "\n",
    "# Using Grid Sampler\n",
    "grid_class_distribution = analyze_sampler_class_distribution(grid_sampler)\n",
    "print(\"Class Distribution (Grid Sampler):\", dict(grid_class_distribution))"
   ]
  },
  {
   "cell_type": "code",
   "execution_count": null,
   "metadata": {},
   "outputs": [],
   "source": [
    "def calculate_imbalance_ratio(class_distribution):\n",
    "    \"\"\"Calculate the imbalance ratio from the class distribution.\"\"\"\n",
    "    majority_class_count = max(class_distribution.values())\n",
    "    minority_class_count = min(class_distribution.values())\n",
    "    imbalance_ratio = majority_class_count / minority_class_count\n",
    "    return majority_class_count, minority_class_count, imbalance_ratio\n",
    "\n",
    "\n",
    "majority_count, minority_count, imbalance_ratio = calculate_imbalance_ratio(\n",
    "    kc_class_distribution\n",
    ")\n",
    "\n",
    "print(\"\\nImbalance Ratio in Kane County Dataset:\")\n",
    "print(f\"Majority Class Count: {majority_count}\")\n",
    "print(f\"Minority Class Count: {minority_count}\")\n",
    "print(f\"Imbalance Ratio: {imbalance_ratio:.2f}\")"
   ]
  },
  {
   "cell_type": "code",
   "execution_count": null,
   "metadata": {},
   "outputs": [],
   "source": []
  },
  {
   "cell_type": "code",
   "execution_count": null,
   "metadata": {},
   "outputs": [],
   "source": []
  }
 ],
 "metadata": {
  "kernelspec": {
   "display_name": "Python 3",
   "language": "python",
   "name": "python3"
  },
  "language_info": {
   "codemirror_mode": {
    "name": "ipython",
    "version": 3
   },
   "file_extension": ".py",
   "mimetype": "text/x-python",
   "name": "python",
   "nbconvert_exporter": "python",
   "pygments_lexer": "ipython3",
   "version": "3.10.15"
  }
 },
 "nbformat": 4,
 "nbformat_minor": 2
}
